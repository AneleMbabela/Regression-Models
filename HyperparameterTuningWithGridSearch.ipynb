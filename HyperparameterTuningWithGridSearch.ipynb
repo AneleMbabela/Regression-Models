{
 "cells": [
  {
   "cell_type": "code",
   "execution_count": 1,
   "metadata": {},
   "outputs": [],
   "source": [
    "import pandas as pd\n",
    "import numpy as np\n",
    "import matplotlib.pyplot as plt\n",
    "\n",
    "from sklearn.model_selection import train_test_split\n",
    "from sklearn.metrics import r2_score\n",
    "from sklearn.preprocessing import StandardScaler\n",
    "\n",
    "from sklearn.linear_model import Lasso\n",
    "from sklearn.neighbors import KNeighborsRegressor\n",
    "from sklearn.tree import DecisionTreeRegressor\n",
    "from sklearn.svm import SVR\n",
    "\n",
    "from sklearn.model_selection import GridSearchCV\n",
    "\n",
    "import warnings\n",
    "warnings.filterwarnings(\"ignore\")"
   ]
  },
  {
   "cell_type": "code",
   "execution_count": 2,
   "metadata": {},
   "outputs": [
    {
     "data": {
      "text/html": [
       "<div>\n",
       "<style scoped>\n",
       "    .dataframe tbody tr th:only-of-type {\n",
       "        vertical-align: middle;\n",
       "    }\n",
       "\n",
       "    .dataframe tbody tr th {\n",
       "        vertical-align: top;\n",
       "    }\n",
       "\n",
       "    .dataframe thead th {\n",
       "        text-align: right;\n",
       "    }\n",
       "</style>\n",
       "<table border=\"1\" class=\"dataframe\">\n",
       "  <thead>\n",
       "    <tr style=\"text-align: right;\">\n",
       "      <th></th>\n",
       "      <th>mpg</th>\n",
       "      <th>cylinders</th>\n",
       "      <th>displacement</th>\n",
       "      <th>horsepower</th>\n",
       "      <th>weight</th>\n",
       "      <th>acceleration</th>\n",
       "      <th>age</th>\n",
       "    </tr>\n",
       "  </thead>\n",
       "  <tbody>\n",
       "    <tr>\n",
       "      <th>0</th>\n",
       "      <td>38.0</td>\n",
       "      <td>4</td>\n",
       "      <td>91.0</td>\n",
       "      <td>67</td>\n",
       "      <td>1995</td>\n",
       "      <td>16.2</td>\n",
       "      <td>38</td>\n",
       "    </tr>\n",
       "    <tr>\n",
       "      <th>1</th>\n",
       "      <td>24.0</td>\n",
       "      <td>4</td>\n",
       "      <td>134.0</td>\n",
       "      <td>96</td>\n",
       "      <td>2702</td>\n",
       "      <td>13.5</td>\n",
       "      <td>45</td>\n",
       "    </tr>\n",
       "    <tr>\n",
       "      <th>2</th>\n",
       "      <td>38.0</td>\n",
       "      <td>4</td>\n",
       "      <td>91.0</td>\n",
       "      <td>67</td>\n",
       "      <td>1965</td>\n",
       "      <td>15.0</td>\n",
       "      <td>38</td>\n",
       "    </tr>\n",
       "    <tr>\n",
       "      <th>3</th>\n",
       "      <td>24.0</td>\n",
       "      <td>4</td>\n",
       "      <td>140.0</td>\n",
       "      <td>92</td>\n",
       "      <td>2865</td>\n",
       "      <td>16.4</td>\n",
       "      <td>38</td>\n",
       "    </tr>\n",
       "    <tr>\n",
       "      <th>4</th>\n",
       "      <td>20.5</td>\n",
       "      <td>6</td>\n",
       "      <td>231.0</td>\n",
       "      <td>105</td>\n",
       "      <td>3425</td>\n",
       "      <td>16.9</td>\n",
       "      <td>43</td>\n",
       "    </tr>\n",
       "  </tbody>\n",
       "</table>\n",
       "</div>"
      ],
      "text/plain": [
       "    mpg  cylinders  displacement  horsepower  weight  acceleration  age\n",
       "0  38.0          4          91.0          67    1995          16.2   38\n",
       "1  24.0          4         134.0          96    2702          13.5   45\n",
       "2  38.0          4          91.0          67    1965          15.0   38\n",
       "3  24.0          4         140.0          92    2865          16.4   38\n",
       "4  20.5          6         231.0         105    3425          16.9   43"
      ]
     },
     "execution_count": 2,
     "metadata": {},
     "output_type": "execute_result"
    }
   ],
   "source": [
    "automobile_df = pd.read_csv('datasets/auto-mpg-processed.csv')\n",
    "\n",
    "automobile_df.head()"
   ]
  },
  {
   "cell_type": "code",
   "execution_count": 3,
   "metadata": {},
   "outputs": [],
   "source": [
    "X = automobile_df.drop(['mpg', 'age'], axis=1)\n",
    "\n",
    "Y = automobile_df['mpg']\n",
    "\n",
    "x_train, x_test, y_train, y_test = train_test_split(X, Y, test_size=0.2)"
   ]
  },
  {
   "cell_type": "code",
   "execution_count": 4,
   "metadata": {},
   "outputs": [
    {
     "data": {
      "text/plain": [
       "{'alpha': 1.0}"
      ]
     },
     "execution_count": 4,
     "metadata": {},
     "output_type": "execute_result"
    }
   ],
   "source": [
    "parameters = {'alpha': [0.2, 0.4, 0.6, 0.7, 0.8, 0.9, 1.0]}\n",
    "\n",
    "grid_search = GridSearchCV(Lasso(), parameters, cv=3, return_train_score=True)\n",
    "grid_search.fit(x_train, y_train)\n",
    "\n",
    "grid_search.best_params_"
   ]
  },
  {
   "cell_type": "code",
   "execution_count": 6,
   "metadata": {},
   "outputs": [
    {
     "name": "stdout",
     "output_type": "stream",
     "text": [
      "Parameters:  {'alpha': 0.2}\n",
      "Mean Test Score:  0.6835571249641914\n",
      "Rank:  7\n",
      "Parameters:  {'alpha': 0.4}\n",
      "Mean Test Score:  0.6855974310968169\n",
      "Rank:  6\n",
      "Parameters:  {'alpha': 0.6}\n",
      "Mean Test Score:  0.6866528905033323\n",
      "Rank:  5\n",
      "Parameters:  {'alpha': 0.7}\n",
      "Mean Test Score:  0.6868283517181247\n",
      "Rank:  4\n",
      "Parameters:  {'alpha': 0.8}\n",
      "Mean Test Score:  0.6868815235973286\n",
      "Rank:  3\n",
      "Parameters:  {'alpha': 0.9}\n",
      "Mean Test Score:  0.6869329329144366\n",
      "Rank:  2\n",
      "Parameters:  {'alpha': 1.0}\n",
      "Mean Test Score:  0.6869830924282017\n",
      "Rank:  1\n"
     ]
    }
   ],
   "source": [
    "for i in range(len(parameters['alpha'])):\n",
    "    print('Parameters: ', grid_search.cv_results_['params'][i])\n",
    "    \n",
    "    print('Mean Test Score: ', grid_search.cv_results_['mean_test_score'][i])\n",
    "    \n",
    "    print('Rank: ', grid_search.cv_results_['rank_test_score'][i])"
   ]
  },
  {
   "cell_type": "code",
   "execution_count": 9,
   "metadata": {},
   "outputs": [],
   "source": [
    "lasso_model = Lasso(alpha=grid_search.best_params_['alpha']).fit(x_train, y_train)"
   ]
  },
  {
   "cell_type": "code",
   "execution_count": 10,
   "metadata": {},
   "outputs": [
    {
     "name": "stdout",
     "output_type": "stream",
     "text": [
      "Training score:  0.7027672138633853\n",
      "Test score:  0.7157200448632067\n"
     ]
    }
   ],
   "source": [
    "y_pred = lasso_model.predict(x_test)\n",
    "\n",
    "print('Training score: ', lasso_model.score(x_train, y_train))\n",
    "print('Test score: ', r2_score(y_test, y_pred))"
   ]
  },
  {
   "cell_type": "code",
   "execution_count": 11,
   "metadata": {},
   "outputs": [
    {
     "data": {
      "text/plain": [
       "{'n_neighbors': 25}"
      ]
     },
     "execution_count": 11,
     "metadata": {},
     "output_type": "execute_result"
    }
   ],
   "source": [
    "parameters = {'n_neighbors': [10, 12, 14, 18, 20, 25, 30, 35, 50]}\n",
    "\n",
    "grid_search = GridSearchCV(KNeighborsRegressor(), parameters, cv=3, return_train_score=True)\n",
    "grid_search.fit(x_train, y_train)\n",
    "\n",
    "grid_search.best_params_"
   ]
  },
  {
   "cell_type": "code",
   "execution_count": 13,
   "metadata": {},
   "outputs": [
    {
     "name": "stdout",
     "output_type": "stream",
     "text": [
      "Parameters:  {'n_neighbors': 10}\n",
      "Mean Test Score:  0.6842166001728941\n",
      "Rank:  7\n",
      "Parameters:  {'n_neighbors': 12}\n",
      "Mean Test Score:  0.6827060502744761\n",
      "Rank:  9\n",
      "Parameters:  {'n_neighbors': 14}\n",
      "Mean Test Score:  0.6828618687399137\n",
      "Rank:  8\n",
      "Parameters:  {'n_neighbors': 18}\n",
      "Mean Test Score:  0.6925503383492778\n",
      "Rank:  6\n",
      "Parameters:  {'n_neighbors': 20}\n",
      "Mean Test Score:  0.6960047502038252\n",
      "Rank:  5\n",
      "Parameters:  {'n_neighbors': 25}\n",
      "Mean Test Score:  0.7036984080084996\n",
      "Rank:  1\n",
      "Parameters:  {'n_neighbors': 30}\n",
      "Mean Test Score:  0.7009323648667832\n",
      "Rank:  3\n",
      "Parameters:  {'n_neighbors': 35}\n",
      "Mean Test Score:  0.7029293622561456\n",
      "Rank:  2\n",
      "Parameters:  {'n_neighbors': 50}\n",
      "Mean Test Score:  0.6996116987949997\n",
      "Rank:  4\n"
     ]
    }
   ],
   "source": [
    "for i in range(len(parameters['n_neighbors'])):\n",
    "    print('Parameters: ', grid_search.cv_results_['params'][i])\n",
    "    print('Mean Test Score: ', grid_search.cv_results_['mean_test_score'][i])\n",
    "    print('Rank: ', grid_search.cv_results_['rank_test_score'][i])"
   ]
  },
  {
   "cell_type": "code",
   "execution_count": 14,
   "metadata": {},
   "outputs": [],
   "source": [
    "kneighbors_model = KNeighborsRegressor(n_neighbors=grid_search.best_params_['n_neighbors']).fit(x_train, y_train)"
   ]
  },
  {
   "cell_type": "code",
   "execution_count": 15,
   "metadata": {},
   "outputs": [
    {
     "name": "stdout",
     "output_type": "stream",
     "text": [
      "Training score:  0.7191377052360148\n",
      "Testing score:  0.7274522568885416\n"
     ]
    }
   ],
   "source": [
    "y_pred = kneighbors_model.predict(x_test)\n",
    "\n",
    "print('Training score: ', kneighbors_model.score(x_train, y_train))\n",
    "print('Testing score: ', r2_score(y_test, y_pred))"
   ]
  },
  {
   "cell_type": "code",
   "execution_count": 16,
   "metadata": {},
   "outputs": [
    {
     "data": {
      "text/plain": [
       "{'max_depth': 2}"
      ]
     },
     "execution_count": 16,
     "metadata": {},
     "output_type": "execute_result"
    }
   ],
   "source": [
    "parameters = {'max_depth':[1, 2, 3, 4, 5, 7, 8]}\n",
    "\n",
    "grid_search = GridSearchCV(DecisionTreeRegressor(), parameters, cv=3, return_train_score=True)\n",
    "grid_search.fit(x_train, y_train)\n",
    "\n",
    "grid_search.best_params_"
   ]
  },
  {
   "cell_type": "code",
   "execution_count": 17,
   "metadata": {},
   "outputs": [
    {
     "data": {
      "text/plain": [
       "{'C': 0.3, 'epsilon': 0.05}"
      ]
     },
     "execution_count": 17,
     "metadata": {},
     "output_type": "execute_result"
    }
   ],
   "source": [
    "parameters = {'epsilon': [0.05, 0.1, 0.2, 0.3],\n",
    "              'C': [0.2, 0.3]}\n",
    "\n",
    "grid_search = GridSearchCV(SVR(kernel='linear'), parameters, cv=3, return_train_score=True)\n",
    "grid_search.fit(x_train, y_train)\n",
    "\n",
    "grid_search.best_params_"
   ]
  },
  {
   "cell_type": "code",
   "execution_count": 18,
   "metadata": {},
   "outputs": [],
   "source": [
    "svr_model = SVR(kernel='linear',\n",
    "                epsilon=grid_search.best_params_['epsilon'],\n",
    "                C=grid_search.best_params_['C']).fit(x_train, y_train)"
   ]
  },
  {
   "cell_type": "code",
   "execution_count": 20,
   "metadata": {},
   "outputs": [
    {
     "name": "stdout",
     "output_type": "stream",
     "text": [
      "Training score:  0.6855646587522257\n",
      "Testing score:  0.6892763910772536\n"
     ]
    }
   ],
   "source": [
    "y_pred = svr_model.predict(x_test)\n",
    "\n",
    "print('Training score: ', svr_model.score(x_train, y_train))\n",
    "print('Testing score: ', r2_score(y_test, y_pred))"
   ]
  },
  {
   "cell_type": "code",
   "execution_count": null,
   "metadata": {},
   "outputs": [],
   "source": []
  },
  {
   "cell_type": "code",
   "execution_count": null,
   "metadata": {},
   "outputs": [],
   "source": []
  }
 ],
 "metadata": {
  "kernelspec": {
   "display_name": "Python 3",
   "language": "python",
   "name": "python3"
  },
  "language_info": {
   "codemirror_mode": {
    "name": "ipython",
    "version": 3
   },
   "file_extension": ".py",
   "mimetype": "text/x-python",
   "name": "python",
   "nbconvert_exporter": "python",
   "pygments_lexer": "ipython3",
   "version": "3.7.6"
  }
 },
 "nbformat": 4,
 "nbformat_minor": 4
}
